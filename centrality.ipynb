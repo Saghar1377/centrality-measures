{
 "cells": [
  {
   "cell_type": "markdown",
   "id": "c150dfa8",
   "metadata": {},
   "source": [
    "As here wasn't any graph in the question, I choose the graph below to have calculation on:"
   ]
  },
  {
   "cell_type": "code",
   "execution_count": null,
   "id": "df7bc22c",
   "metadata": {},
   "outputs": [],
   "source": [
    "graph = {\n",
    "    1: [2, 3],\n",
    "    2: [1, 3, 4],\n",
    "    3: [1, 2, 4],\n",
    "    4: [2, 3, 5, 6],\n",
    "    5: [4, 6],\n",
    "    6: [4, 5]\n",
    "}\n"
   ]
  },
  {
   "cell_type": "code",
   "execution_count": null,
   "id": "5b896d7e",
   "metadata": {},
   "outputs": [],
   "source": [
    "import urllib.request\n",
    "import gzip"
   ]
  },
  {
   "cell_type": "code",
   "execution_count": null,
   "id": "7869dd58",
   "metadata": {},
   "outputs": [],
   "source": [
    "address = 'https://snap.stanford.edu/data/web-Google.txt.gz'\n",
    "file = 'web-Google.txt.gz'\n",
    "urllib.request.urlretrieve(address, file)"
   ]
  },
  {
   "cell_type": "code",
   "execution_count": null,
   "id": "f8015799",
   "metadata": {},
   "outputs": [],
   "source": [
    "with gzip.open(file, 'rb') as f_in:\n",
    "    with open('web-Google.txt', 'wb') as out:\n",
    "        out.write(f_in.read())\n",
    "\n",
    "graph = {}\n",
    "with open('web-Google.txt', 'r') as file:\n",
    "    for line in file:\n",
    "        if line.startswith('#'):\n",
    "            continue \n",
    "        source, target = line.strip().split('\\t')\n",
    "        if source not in graph:\n",
    "            graph[source] = []\n",
    "        graph[source].append(target)\n",
    "\n",
    "#adjacency list\n",
    "for node, neighbors in graph.items():\n",
    "    print(f\"Node {node}: {neighbors}\")"
   ]
  },
  {
   "cell_type": "markdown",
   "id": "d216f9fd",
   "metadata": {},
   "source": [
    "# a) Degree Centrality\n",
    "Calculate the degree centrality for each node in the graph."
   ]
  },
  {
   "cell_type": "code",
   "execution_count": null,
   "id": "67a5d9cb",
   "metadata": {},
   "outputs": [],
   "source": [
    "degree_centrality = {}\n",
    "for node in graph:\n",
    "    neighbors = graph[node]\n",
    "    degree = len(neighbors)\n",
    "    degree_centrality[node] = degree / (len(graph) - 1)\n",
    "\n",
    "for node, centrality in degree_centrality.items():\n",
    "    print(f\"Node {node}: Degree Centrality = {centrality}\")"
   ]
  },
  {
   "cell_type": "markdown",
   "id": "5a50fe52",
   "metadata": {},
   "source": [
    "# b) Betweenness Centrality\n",
    "Calculate the betweenness centrality for each node in the graph. "
   ]
  },
  {
   "cell_type": "code",
   "execution_count": null,
   "id": "e7b906a7",
   "metadata": {},
   "outputs": [],
   "source": [
    "def shortest_paths(graph, source):\n",
    "    queue = [source]\n",
    "    visited = set([source])\n",
    "    paths = {source: [[source]]}\n",
    "\n",
    "    while queue:\n",
    "        node = queue.pop(0)\n",
    "\n",
    "        for neighbor in graph[node]:\n",
    "            if neighbor not in visited:\n",
    "                queue.append(neighbor)\n",
    "                visited.add(neighbor)\n",
    "                paths[neighbor] = []\n",
    "\n",
    "            for path in paths[node]:\n",
    "                paths[neighbor].append(path + [neighbor])\n",
    "\n",
    "    return paths\n",
    "\n",
    "\n",
    "betweenness_centrality = {node: 0 for node in graph}\n",
    "\n",
    "for node in graph:\n",
    "    node_paths = shortest_paths(graph, node)\n",
    "    for paths in node_paths.values():\n",
    "        for path in paths:\n",
    "            for i in range(1, len(path) - 1):\n",
    "                betweenness_centrality[path[i]] += 1\n",
    "\n",
    "num_paths = len(graph) - 1\n",
    "for node in betweenness_centrality:\n",
    "    betweenness_centrality[node] /= num_paths * (num_paths - 1)\n",
    "\n",
    "for node, centrality in betweenness_centrality.items():\n",
    "    print(f\"Node {node}: Betweenness Centrality = {centrality}\")\n"
   ]
  },
  {
   "cell_type": "markdown",
   "id": "e16ca4ef",
   "metadata": {},
   "source": [
    "# c) Eigenvector Centrality\n",
    "Calculate the eigenvector centrality for each node in the graph."
   ]
  },
  {
   "cell_type": "code",
   "execution_count": null,
   "id": "bd135115",
   "metadata": {},
   "outputs": [],
   "source": [
    "import numpy as np\n",
    "\n",
    "num_nodes = len(graph)\n",
    "\n",
    "adj_matrix = np.zeros((num_nodes, num_nodes))\n",
    "\n",
    "for node, neighbors in graph.items():\n",
    "    for neighbor in neighbors:\n",
    "        adj_matrix[node - 1][neighbor - 1] = 1\n",
    "\n",
    "eigenvalues, eigenvectors = np.linalg.eig(adj_matrix)\n",
    "\n",
    "dominant_index = np.argmax(eigenvalues)\n",
    "\n",
    "eigenvector_centrality = eigenvectors[:, dominant_index]\n",
    "\n",
    "eigenvector_centrality /= np.sum(eigenvector_centrality)\n",
    "\n",
    "for node, centrality in enumerate(eigenvector_centrality, start=1):\n",
    "    print(f\"Node {node}: Eigenvector Centrality = {centrality}\")\n"
   ]
  },
  {
   "cell_type": "markdown",
   "id": "6cbeaacd",
   "metadata": {},
   "source": [
    "**Compare and analyze the results of these centrality measures to identify influential nodes within the social network.**"
   ]
  },
  {
   "cell_type": "markdown",
   "id": "2ffb3ab9",
   "metadata": {},
   "source": [
    "By using all these measures we can see node 4 has the most rank. This node is likely to be the most influential within the social network. Also, node 2 and 3 are influestial, too (but less than node 4). "
   ]
  },
  {
   "cell_type": "markdown",
   "id": "c939ba6c",
   "metadata": {},
   "source": [
    "If we want to use a suitable measure, we'd better focus on the results of the eigenvector centrality or even betweenness centrality; because the degree centrality only counts the number of neighbors for each node and it doesn't care to other relations."
   ]
  }
 ],
 "metadata": {
  "kernelspec": {
   "display_name": "Python 3 (ipykernel)",
   "language": "python",
   "name": "python3"
  },
  "language_info": {
   "codemirror_mode": {
    "name": "ipython",
    "version": 3
   },
   "file_extension": ".py",
   "mimetype": "text/x-python",
   "name": "python",
   "nbconvert_exporter": "python",
   "pygments_lexer": "ipython3",
   "version": "3.11.2"
  }
 },
 "nbformat": 4,
 "nbformat_minor": 5
}
